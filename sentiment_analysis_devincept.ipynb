{
  "nbformat": 4,
  "nbformat_minor": 0,
  "metadata": {
    "kernelspec": {
      "display_name": "Python 3",
      "language": "python",
      "name": "python3"
    },
    "language_info": {
      "codemirror_mode": {
        "name": "ipython",
        "version": 3
      },
      "file_extension": ".py",
      "mimetype": "text/x-python",
      "name": "python",
      "nbconvert_exporter": "python",
      "pygments_lexer": "ipython3",
      "version": "3.8.3"
    },
    "papermill": {
      "duration": 127.964568,
      "end_time": "2020-11-21T05:53:32.237180",
      "environment_variables": {},
      "exception": null,
      "input_path": "__notebook__.ipynb",
      "output_path": "__notebook__.ipynb",
      "parameters": {},
      "start_time": "2020-11-21T05:51:24.272612",
      "version": "2.1.0"
    },
    "colab": {
      "name": "sentiment analysis devincept.ipynb",
      "provenance": []
    }
  },
  "cells": [
    {
      "cell_type": "code",
      "metadata": {
        "_cell_guid": "b1076dfc-b9ad-4769-8c92-a6c4dae69d19",
        "_uuid": "8f2839f25d086af736a60e9eeb907d3b93b6e0e5",
        "execution": {
          "iopub.execute_input": "2020-11-21T05:51:29.190611Z",
          "iopub.status.busy": "2020-11-21T05:51:29.189583Z",
          "iopub.status.idle": "2020-11-21T05:51:29.199745Z",
          "shell.execute_reply": "2020-11-21T05:51:29.198674Z"
        },
        "papermill": {
          "duration": 0.047951,
          "end_time": "2020-11-21T05:51:29.199931",
          "exception": false,
          "start_time": "2020-11-21T05:51:29.151980",
          "status": "completed"
        },
        "tags": [],
        "id": "bqQ9-nReAtyc"
      },
      "source": [
        "import numpy as np \n",
        "import pandas as pd "
      ],
      "execution_count": 21,
      "outputs": []
    },
    {
      "cell_type": "markdown",
      "metadata": {
        "papermill": {
          "duration": 0.024208,
          "end_time": "2020-11-21T05:51:29.250976",
          "exception": false,
          "start_time": "2020-11-21T05:51:29.226768",
          "status": "completed"
        },
        "tags": [],
        "id": "-eFDrQm1Atye"
      },
      "source": [
        "# Read the dataset and merge the files"
      ]
    },
    {
      "cell_type": "code",
      "metadata": {
        "execution": {
          "iopub.execute_input": "2020-11-21T05:51:29.312284Z",
          "iopub.status.busy": "2020-11-21T05:51:29.311258Z",
          "iopub.status.idle": "2020-11-21T05:51:30.145515Z",
          "shell.execute_reply": "2020-11-21T05:51:30.144812Z"
        },
        "papermill": {
          "duration": 0.86977,
          "end_time": "2020-11-21T05:51:30.145676",
          "exception": false,
          "start_time": "2020-11-21T05:51:29.275906",
          "status": "completed"
        },
        "tags": [],
        "id": "W7ONAXF-Atye"
      },
      "source": [
        "df1 = pd.read_json('Sarcasm_Headlines_Dataset.json',lines = True)\n",
        "df2 = pd.read_json('Sarcasm_Headlines_Dataset_v2.json', lines = True)"
      ],
      "execution_count": 22,
      "outputs": []
    },
    {
      "cell_type": "code",
      "metadata": {
        "execution": {
          "iopub.execute_input": "2020-11-21T05:51:30.214667Z",
          "iopub.status.busy": "2020-11-21T05:51:30.213510Z",
          "iopub.status.idle": "2020-11-21T05:51:30.228977Z",
          "shell.execute_reply": "2020-11-21T05:51:30.227781Z"
        },
        "papermill": {
          "duration": 0.058199,
          "end_time": "2020-11-21T05:51:30.229217",
          "exception": false,
          "start_time": "2020-11-21T05:51:30.171018",
          "status": "completed"
        },
        "tags": [],
        "colab": {
          "base_uri": "https://localhost:8080/"
        },
        "id": "bAxiJL0iAtye",
        "outputId": "bd93c642-7fe3-47ce-c330-f53f2868815c"
      },
      "source": [
        "df1.info()"
      ],
      "execution_count": 23,
      "outputs": [
        {
          "output_type": "stream",
          "text": [
            "<class 'pandas.core.frame.DataFrame'>\n",
            "RangeIndex: 26709 entries, 0 to 26708\n",
            "Data columns (total 3 columns):\n",
            " #   Column        Non-Null Count  Dtype \n",
            "---  ------        --------------  ----- \n",
            " 0   article_link  26709 non-null  object\n",
            " 1   headline      26709 non-null  object\n",
            " 2   is_sarcastic  26709 non-null  int64 \n",
            "dtypes: int64(1), object(2)\n",
            "memory usage: 626.1+ KB\n"
          ],
          "name": "stdout"
        }
      ]
    },
    {
      "cell_type": "code",
      "metadata": {
        "execution": {
          "iopub.execute_input": "2020-11-21T05:51:30.306794Z",
          "iopub.status.busy": "2020-11-21T05:51:30.298178Z",
          "iopub.status.idle": "2020-11-21T05:51:30.310677Z",
          "shell.execute_reply": "2020-11-21T05:51:30.311813Z"
        },
        "papermill": {
          "duration": 0.055515,
          "end_time": "2020-11-21T05:51:30.312012",
          "exception": false,
          "start_time": "2020-11-21T05:51:30.256497",
          "status": "completed"
        },
        "tags": [],
        "colab": {
          "base_uri": "https://localhost:8080/"
        },
        "id": "tTedu3bEAtyi",
        "outputId": "603eac32-3f96-482b-f722-bfca7ab3cf47"
      },
      "source": [
        "df2.info()"
      ],
      "execution_count": 24,
      "outputs": [
        {
          "output_type": "stream",
          "text": [
            "<class 'pandas.core.frame.DataFrame'>\n",
            "RangeIndex: 28619 entries, 0 to 28618\n",
            "Data columns (total 3 columns):\n",
            " #   Column        Non-Null Count  Dtype \n",
            "---  ------        --------------  ----- \n",
            " 0   is_sarcastic  28619 non-null  int64 \n",
            " 1   headline      28619 non-null  object\n",
            " 2   article_link  28619 non-null  object\n",
            "dtypes: int64(1), object(2)\n",
            "memory usage: 670.9+ KB\n"
          ],
          "name": "stdout"
        }
      ]
    },
    {
      "cell_type": "code",
      "metadata": {
        "execution": {
          "iopub.execute_input": "2020-11-21T05:51:30.372568Z",
          "iopub.status.busy": "2020-11-21T05:51:30.371683Z",
          "iopub.status.idle": "2020-11-21T05:51:30.384075Z",
          "shell.execute_reply": "2020-11-21T05:51:30.383267Z"
        },
        "papermill": {
          "duration": 0.045292,
          "end_time": "2020-11-21T05:51:30.384258",
          "exception": false,
          "start_time": "2020-11-21T05:51:30.338966",
          "status": "completed"
        },
        "tags": [],
        "colab": {
          "base_uri": "https://localhost:8080/",
          "height": 195
        },
        "id": "JJlNSsjMAtyi",
        "outputId": "52e083bc-d0cf-4b24-9dc6-2564ca37765e"
      },
      "source": [
        "df = pd.concat([df1,df2])\n",
        "df.tail()"
      ],
      "execution_count": 25,
      "outputs": [
        {
          "output_type": "execute_result",
          "data": {
            "text/html": [
              "<div>\n",
              "<style scoped>\n",
              "    .dataframe tbody tr th:only-of-type {\n",
              "        vertical-align: middle;\n",
              "    }\n",
              "\n",
              "    .dataframe tbody tr th {\n",
              "        vertical-align: top;\n",
              "    }\n",
              "\n",
              "    .dataframe thead th {\n",
              "        text-align: right;\n",
              "    }\n",
              "</style>\n",
              "<table border=\"1\" class=\"dataframe\">\n",
              "  <thead>\n",
              "    <tr style=\"text-align: right;\">\n",
              "      <th></th>\n",
              "      <th>article_link</th>\n",
              "      <th>headline</th>\n",
              "      <th>is_sarcastic</th>\n",
              "    </tr>\n",
              "  </thead>\n",
              "  <tbody>\n",
              "    <tr>\n",
              "      <th>28614</th>\n",
              "      <td>https://www.theonion.com/jews-to-celebrate-ros...</td>\n",
              "      <td>jews to celebrate rosh hashasha or something</td>\n",
              "      <td>1</td>\n",
              "    </tr>\n",
              "    <tr>\n",
              "      <th>28615</th>\n",
              "      <td>https://local.theonion.com/internal-affairs-in...</td>\n",
              "      <td>internal affairs investigator disappointed con...</td>\n",
              "      <td>1</td>\n",
              "    </tr>\n",
              "    <tr>\n",
              "      <th>28616</th>\n",
              "      <td>https://www.huffingtonpost.com/entry/andrew-ah...</td>\n",
              "      <td>the most beautiful acceptance speech this week...</td>\n",
              "      <td>0</td>\n",
              "    </tr>\n",
              "    <tr>\n",
              "      <th>28617</th>\n",
              "      <td>https://www.theonion.com/mars-probe-destroyed-...</td>\n",
              "      <td>mars probe destroyed by orbiting spielberg-gat...</td>\n",
              "      <td>1</td>\n",
              "    </tr>\n",
              "    <tr>\n",
              "      <th>28618</th>\n",
              "      <td>https://www.theonion.com/dad-clarifies-this-no...</td>\n",
              "      <td>dad clarifies this not a food stop</td>\n",
              "      <td>1</td>\n",
              "    </tr>\n",
              "  </tbody>\n",
              "</table>\n",
              "</div>"
            ],
            "text/plain": [
              "                                            article_link  ... is_sarcastic\n",
              "28614  https://www.theonion.com/jews-to-celebrate-ros...  ...            1\n",
              "28615  https://local.theonion.com/internal-affairs-in...  ...            1\n",
              "28616  https://www.huffingtonpost.com/entry/andrew-ah...  ...            0\n",
              "28617  https://www.theonion.com/mars-probe-destroyed-...  ...            1\n",
              "28618  https://www.theonion.com/dad-clarifies-this-no...  ...            1\n",
              "\n",
              "[5 rows x 3 columns]"
            ]
          },
          "metadata": {
            "tags": []
          },
          "execution_count": 25
        }
      ]
    },
    {
      "cell_type": "code",
      "metadata": {
        "execution": {
          "iopub.execute_input": "2020-11-21T05:51:30.461926Z",
          "iopub.status.busy": "2020-11-21T05:51:30.461040Z",
          "iopub.status.idle": "2020-11-21T05:51:30.474076Z",
          "shell.execute_reply": "2020-11-21T05:51:30.473437Z"
        },
        "papermill": {
          "duration": 0.063307,
          "end_time": "2020-11-21T05:51:30.474246",
          "exception": false,
          "start_time": "2020-11-21T05:51:30.410939",
          "status": "completed"
        },
        "tags": [],
        "colab": {
          "base_uri": "https://localhost:8080/"
        },
        "id": "5tdRwevrAtyj",
        "outputId": "c99dcc09-3dc5-41ff-8ed9-f241228f504c"
      },
      "source": [
        "df.info()"
      ],
      "execution_count": 26,
      "outputs": [
        {
          "output_type": "stream",
          "text": [
            "<class 'pandas.core.frame.DataFrame'>\n",
            "Int64Index: 55328 entries, 0 to 28618\n",
            "Data columns (total 3 columns):\n",
            " #   Column        Non-Null Count  Dtype \n",
            "---  ------        --------------  ----- \n",
            " 0   article_link  55328 non-null  object\n",
            " 1   headline      55328 non-null  object\n",
            " 2   is_sarcastic  55328 non-null  int64 \n",
            "dtypes: int64(1), object(2)\n",
            "memory usage: 1.7+ MB\n"
          ],
          "name": "stdout"
        }
      ]
    },
    {
      "cell_type": "markdown",
      "metadata": {
        "papermill": {
          "duration": 0.026921,
          "end_time": "2020-11-21T05:51:30.528543",
          "exception": false,
          "start_time": "2020-11-21T05:51:30.501622",
          "status": "completed"
        },
        "tags": [],
        "id": "HmgvcP7VAtyj"
      },
      "source": [
        "# Cleaning the dataset"
      ]
    },
    {
      "cell_type": "code",
      "metadata": {
        "execution": {
          "iopub.execute_input": "2020-11-21T05:51:30.601731Z",
          "iopub.status.busy": "2020-11-21T05:51:30.600425Z",
          "iopub.status.idle": "2020-11-21T05:51:30.612371Z",
          "shell.execute_reply": "2020-11-21T05:51:30.611563Z"
        },
        "papermill": {
          "duration": 0.056635,
          "end_time": "2020-11-21T05:51:30.612578",
          "exception": false,
          "start_time": "2020-11-21T05:51:30.555943",
          "status": "completed"
        },
        "tags": [],
        "colab": {
          "base_uri": "https://localhost:8080/",
          "height": 195
        },
        "id": "E_UYCzujAtyj",
        "outputId": "f0ddeda7-6d22-4f09-ad1d-be25d439bda0"
      },
      "source": [
        "# Removing the article link from the Dataset\n",
        "df = df.drop([\"article_link\"], axis=1)\n",
        "df.head()"
      ],
      "execution_count": 27,
      "outputs": [
        {
          "output_type": "execute_result",
          "data": {
            "text/html": [
              "<div>\n",
              "<style scoped>\n",
              "    .dataframe tbody tr th:only-of-type {\n",
              "        vertical-align: middle;\n",
              "    }\n",
              "\n",
              "    .dataframe tbody tr th {\n",
              "        vertical-align: top;\n",
              "    }\n",
              "\n",
              "    .dataframe thead th {\n",
              "        text-align: right;\n",
              "    }\n",
              "</style>\n",
              "<table border=\"1\" class=\"dataframe\">\n",
              "  <thead>\n",
              "    <tr style=\"text-align: right;\">\n",
              "      <th></th>\n",
              "      <th>headline</th>\n",
              "      <th>is_sarcastic</th>\n",
              "    </tr>\n",
              "  </thead>\n",
              "  <tbody>\n",
              "    <tr>\n",
              "      <th>0</th>\n",
              "      <td>former versace store clerk sues over secret 'b...</td>\n",
              "      <td>0</td>\n",
              "    </tr>\n",
              "    <tr>\n",
              "      <th>1</th>\n",
              "      <td>the 'roseanne' revival catches up to our thorn...</td>\n",
              "      <td>0</td>\n",
              "    </tr>\n",
              "    <tr>\n",
              "      <th>2</th>\n",
              "      <td>mom starting to fear son's web series closest ...</td>\n",
              "      <td>1</td>\n",
              "    </tr>\n",
              "    <tr>\n",
              "      <th>3</th>\n",
              "      <td>boehner just wants wife to listen, not come up...</td>\n",
              "      <td>1</td>\n",
              "    </tr>\n",
              "    <tr>\n",
              "      <th>4</th>\n",
              "      <td>j.k. rowling wishes snape happy birthday in th...</td>\n",
              "      <td>0</td>\n",
              "    </tr>\n",
              "  </tbody>\n",
              "</table>\n",
              "</div>"
            ],
            "text/plain": [
              "                                            headline  is_sarcastic\n",
              "0  former versace store clerk sues over secret 'b...             0\n",
              "1  the 'roseanne' revival catches up to our thorn...             0\n",
              "2  mom starting to fear son's web series closest ...             1\n",
              "3  boehner just wants wife to listen, not come up...             1\n",
              "4  j.k. rowling wishes snape happy birthday in th...             0"
            ]
          },
          "metadata": {
            "tags": []
          },
          "execution_count": 27
        }
      ]
    },
    {
      "cell_type": "code",
      "metadata": {
        "execution": {
          "iopub.execute_input": "2020-11-21T05:51:30.696757Z",
          "iopub.status.busy": "2020-11-21T05:51:30.695817Z",
          "iopub.status.idle": "2020-11-21T05:51:30.706744Z",
          "shell.execute_reply": "2020-11-21T05:51:30.705720Z"
        },
        "papermill": {
          "duration": 0.062174,
          "end_time": "2020-11-21T05:51:30.706940",
          "exception": false,
          "start_time": "2020-11-21T05:51:30.644766",
          "status": "completed"
        },
        "tags": [],
        "colab": {
          "base_uri": "https://localhost:8080/"
        },
        "id": "Z-TW-4oqAtyj",
        "outputId": "1a5b8394-5687-413a-83fe-1e9fdaa52176"
      },
      "source": [
        "df.isnull().sum()"
      ],
      "execution_count": 28,
      "outputs": [
        {
          "output_type": "execute_result",
          "data": {
            "text/plain": [
              "headline        0\n",
              "is_sarcastic    0\n",
              "dtype: int64"
            ]
          },
          "metadata": {
            "tags": []
          },
          "execution_count": 28
        }
      ]
    },
    {
      "cell_type": "code",
      "metadata": {
        "execution": {
          "iopub.execute_input": "2020-11-21T05:51:30.781427Z",
          "iopub.status.busy": "2020-11-21T05:51:30.780084Z",
          "iopub.status.idle": "2020-11-21T05:51:32.024278Z",
          "shell.execute_reply": "2020-11-21T05:51:32.023421Z"
        },
        "papermill": {
          "duration": 1.285514,
          "end_time": "2020-11-21T05:51:32.024418",
          "exception": false,
          "start_time": "2020-11-21T05:51:30.738904",
          "status": "completed"
        },
        "tags": [],
        "colab": {
          "base_uri": "https://localhost:8080/",
          "height": 313
        },
        "id": "tYvkHhlfAtyj",
        "outputId": "4ffba4ab-bc42-44c0-c073-5fabe6a50306"
      },
      "source": [
        "%matplotlib inline\n",
        "import matplotlib.pyplot as plt\n",
        "import seaborn as sns\n",
        "sns.countplot(x = \"is_sarcastic\", data = df)\n",
        "plt.title(\"Data Distribution\")"
      ],
      "execution_count": 29,
      "outputs": [
        {
          "output_type": "execute_result",
          "data": {
            "text/plain": [
              "Text(0.5, 1.0, 'Data Distribution')"
            ]
          },
          "metadata": {
            "tags": []
          },
          "execution_count": 29
        },
        {
          "output_type": "display_data",
          "data": {
            "image/png": "[encoded data removed]",
            "text/plain": [
              "<Figure size 432x288 with 1 Axes>"
            ]
          },
          "metadata": {
            "tags": [],
            "needs_background": "light"
          }
        }
      ]
    },
    {
      "cell_type": "code",
      "metadata": {
        "execution": {
          "iopub.execute_input": "2020-11-21T05:51:32.104446Z",
          "iopub.status.busy": "2020-11-21T05:51:32.103153Z",
          "iopub.status.idle": "2020-11-21T05:51:32.904131Z",
          "shell.execute_reply": "2020-11-21T05:51:32.903277Z"
        },
        "papermill": {
          "duration": 0.849556,
          "end_time": "2020-11-21T05:51:32.904298",
          "exception": false,
          "start_time": "2020-11-21T05:51:32.054742",
          "status": "completed"
        },
        "tags": [],
        "id": "ux-uqBXdAtyk"
      },
      "source": [
        "from nltk.tokenize import RegexpTokenizer\n",
        "\n",
        "from nltk.corpus import stopwords\n",
        "\n",
        "from nltk.stem import PorterStemmer"
      ],
      "execution_count": 30,
      "outputs": []
    },
    {
      "cell_type": "code",
      "metadata": {
        "colab": {
          "base_uri": "https://localhost:8080/"
        },
        "id": "c-ss5LptCrt0",
        "outputId": "7e9d8354-35fd-4f2e-a839-f80bf85139d5"
      },
      "source": [
        "import nltk\n",
        "nltk.download('stopwords')"
      ],
      "execution_count": 31,
      "outputs": [
        {
          "output_type": "stream",
          "text": [
            "[nltk_data] Downloading package stopwords to /root/nltk_data...\n",
            "[nltk_data]   Package stopwords is already up-to-date!\n"
          ],
          "name": "stdout"
        },
        {
          "output_type": "execute_result",
          "data": {
            "text/plain": [
              "True"
            ]
          },
          "metadata": {
            "tags": []
          },
          "execution_count": 31
        }
      ]
    },
    {
      "cell_type": "code",
      "metadata": {
        "execution": {
          "iopub.execute_input": "2020-11-21T05:51:32.981212Z",
          "iopub.status.busy": "2020-11-21T05:51:32.980373Z",
          "iopub.status.idle": "2020-11-21T05:51:32.990806Z",
          "shell.execute_reply": "2020-11-21T05:51:32.990112Z"
        },
        "papermill": {
          "duration": 0.056359,
          "end_time": "2020-11-21T05:51:32.990956",
          "exception": false,
          "start_time": "2020-11-21T05:51:32.934597",
          "status": "completed"
        },
        "tags": [],
        "id": "JiEX7u41Atyk"
      },
      "source": [
        "stop_words = set(stopwords.words(\"english\"))\n",
        "stemmer = PorterStemmer()\n",
        "tokenizer = RegexpTokenizer(r'\\w+')\n",
        "\n",
        "\n",
        "def preprocess(text):\n",
        "  word_list = []\n",
        "  tok = tokenizer.tokenize(text)\n",
        "  for word in tok:\n",
        "    if word not in stop_words:\n",
        "      word_list.append(stemmer.stem(word))\n",
        "  return \" \".join(word_list)"
      ],
      "execution_count": 32,
      "outputs": []
    },
    {
      "cell_type": "code",
      "metadata": {
        "execution": {
          "iopub.execute_input": "2020-11-21T05:51:33.060472Z",
          "iopub.status.busy": "2020-11-21T05:51:33.059280Z",
          "iopub.status.idle": "2020-11-21T05:51:49.736954Z",
          "shell.execute_reply": "2020-11-21T05:51:49.736149Z"
        },
        "papermill": {
          "duration": 16.715722,
          "end_time": "2020-11-21T05:51:49.737097",
          "exception": false,
          "start_time": "2020-11-21T05:51:33.021375",
          "status": "completed"
        },
        "tags": [],
        "colab": {
          "base_uri": "https://localhost:8080/"
        },
        "id": "205DGTm0Atyk",
        "outputId": "d05f0aa2-5374-4ee6-b3ab-1ea13ed4c1d2"
      },
      "source": [
        "x_data = df[\"headline\"].apply(preprocess)\n",
        "x_data.tail()"
      ],
      "execution_count": 33,
      "outputs": [
        {
          "output_type": "execute_result",
          "data": {
            "text/plain": [
              "28614                      jew celebr rosh hashasha someth\n",
              "28615    intern affair investig disappoint conspiraci g...\n",
              "28616          beauti accept speech week came queer korean\n",
              "28617    mar probe destroy orbit spielberg gate space p...\n",
              "28618                                dad clarifi food stop\n",
              "Name: headline, dtype: object"
            ]
          },
          "metadata": {
            "tags": []
          },
          "execution_count": 33
        }
      ]
    },
    {
      "cell_type": "markdown",
      "metadata": {
        "papermill": {
          "duration": 0.030479,
          "end_time": "2020-11-21T05:51:49.798636",
          "exception": false,
          "start_time": "2020-11-21T05:51:49.768157",
          "status": "completed"
        },
        "tags": [],
        "id": "BIMWCwdtAtyk"
      },
      "source": [
        "# Word Cloud creation for Sarcastic headlines"
      ]
    },
    {
      "cell_type": "code",
      "metadata": {
        "colab": {
          "base_uri": "https://localhost:8080/"
        },
        "id": "FBPK5zLmAtyk",
        "outputId": "85db1cca-fde3-47ff-ce51-b1ac0c29bff2"
      },
      "source": [
        "pip install wordcloud"
      ],
      "execution_count": 34,
      "outputs": [
        {
          "output_type": "stream",
          "text": [
            "Requirement already satisfied: wordcloud in /usr/local/lib/python3.6/dist-packages (1.5.0)\n",
            "Requirement already satisfied: numpy>=1.6.1 in /usr/local/lib/python3.6/dist-packages (from wordcloud) (1.18.5)\n",
            "Requirement already satisfied: pillow in /usr/local/lib/python3.6/dist-packages (from wordcloud) (7.0.0)\n"
          ],
          "name": "stdout"
        }
      ]
    },
    {
      "cell_type": "code",
      "metadata": {
        "colab": {
          "base_uri": "https://localhost:8080/",
          "height": 402
        },
        "id": "SG10mpqaEO1Y",
        "outputId": "4a86558b-3ac7-4419-8a8c-84357a64da2e"
      },
      "source": [
        "SarNews = df[(df['is_sarcastic'])==1]\n",
        "SarNews"
      ],
      "execution_count": 35,
      "outputs": [
        {
          "output_type": "execute_result",
          "data": {
            "text/html": [
              "<div>\n",
              "<style scoped>\n",
              "    .dataframe tbody tr th:only-of-type {\n",
              "        vertical-align: middle;\n",
              "    }\n",
              "\n",
              "    .dataframe tbody tr th {\n",
              "        vertical-align: top;\n",
              "    }\n",
              "\n",
              "    .dataframe thead th {\n",
              "        text-align: right;\n",
              "    }\n",
              "</style>\n",
              "<table border=\"1\" class=\"dataframe\">\n",
              "  <thead>\n",
              "    <tr style=\"text-align: right;\">\n",
              "      <th></th>\n",
              "      <th>headline</th>\n",
              "      <th>is_sarcastic</th>\n",
              "    </tr>\n",
              "  </thead>\n",
              "  <tbody>\n",
              "    <tr>\n",
              "      <th>2</th>\n",
              "      <td>mom starting to fear son's web series closest ...</td>\n",
              "      <td>1</td>\n",
              "    </tr>\n",
              "    <tr>\n",
              "      <th>3</th>\n",
              "      <td>boehner just wants wife to listen, not come up...</td>\n",
              "      <td>1</td>\n",
              "    </tr>\n",
              "    <tr>\n",
              "      <th>8</th>\n",
              "      <td>top snake handler leaves sinking huckabee camp...</td>\n",
              "      <td>1</td>\n",
              "    </tr>\n",
              "    <tr>\n",
              "      <th>15</th>\n",
              "      <td>nuclear bomb detonates during rehearsal for 's...</td>\n",
              "      <td>1</td>\n",
              "    </tr>\n",
              "    <tr>\n",
              "      <th>16</th>\n",
              "      <td>cosby lawyer asks why accusers didn't come for...</td>\n",
              "      <td>1</td>\n",
              "    </tr>\n",
              "    <tr>\n",
              "      <th>...</th>\n",
              "      <td>...</td>\n",
              "      <td>...</td>\n",
              "    </tr>\n",
              "    <tr>\n",
              "      <th>28612</th>\n",
              "      <td>polish rapper under fire for use of the word '...</td>\n",
              "      <td>1</td>\n",
              "    </tr>\n",
              "    <tr>\n",
              "      <th>28614</th>\n",
              "      <td>jews to celebrate rosh hashasha or something</td>\n",
              "      <td>1</td>\n",
              "    </tr>\n",
              "    <tr>\n",
              "      <th>28615</th>\n",
              "      <td>internal affairs investigator disappointed con...</td>\n",
              "      <td>1</td>\n",
              "    </tr>\n",
              "    <tr>\n",
              "      <th>28617</th>\n",
              "      <td>mars probe destroyed by orbiting spielberg-gat...</td>\n",
              "      <td>1</td>\n",
              "    </tr>\n",
              "    <tr>\n",
              "      <th>28618</th>\n",
              "      <td>dad clarifies this not a food stop</td>\n",
              "      <td>1</td>\n",
              "    </tr>\n",
              "  </tbody>\n",
              "</table>\n",
              "<p>25358 rows × 2 columns</p>\n",
              "</div>"
            ],
            "text/plain": [
              "                                                headline  is_sarcastic\n",
              "2      mom starting to fear son's web series closest ...             1\n",
              "3      boehner just wants wife to listen, not come up...             1\n",
              "8      top snake handler leaves sinking huckabee camp...             1\n",
              "15     nuclear bomb detonates during rehearsal for 's...             1\n",
              "16     cosby lawyer asks why accusers didn't come for...             1\n",
              "...                                                  ...           ...\n",
              "28612  polish rapper under fire for use of the word '...             1\n",
              "28614       jews to celebrate rosh hashasha or something             1\n",
              "28615  internal affairs investigator disappointed con...             1\n",
              "28617  mars probe destroyed by orbiting spielberg-gat...             1\n",
              "28618                 dad clarifies this not a food stop             1\n",
              "\n",
              "[25358 rows x 2 columns]"
            ]
          },
          "metadata": {
            "tags": []
          },
          "execution_count": 35
        }
      ]
    },
    {
      "cell_type": "code",
      "metadata": {
        "execution": {
          "iopub.execute_input": "2020-11-21T05:51:49.962533Z",
          "iopub.status.busy": "2020-11-21T05:51:49.961586Z",
          "iopub.status.idle": "2020-11-21T05:51:54.238869Z",
          "shell.execute_reply": "2020-11-21T05:51:54.239513Z"
        },
        "papermill": {
          "duration": 4.32204,
          "end_time": "2020-11-21T05:51:54.239696",
          "exception": false,
          "start_time": "2020-11-21T05:51:49.917656",
          "status": "completed"
        },
        "tags": [],
        "colab": {
          "base_uri": "https://localhost:8080/",
          "height": 319
        },
        "id": "KDT43Qh4Atyk",
        "outputId": "2b84b1d4-ca4b-4e66-998e-11265483229a"
      },
      "source": [
        "from wordcloud import WordCloud, STOPWORDS\n",
        "words = '' \n",
        "stopwords = set(STOPWORDS) \n",
        "  \n",
        "for val in SarNews.headline: \n",
        "      \n",
        "    val = str(val) \n",
        "  \n",
        "    tokens = val.split() \n",
        "      \n",
        "    for i in range(len(tokens)): \n",
        "        tokens[i] = tokens[i].lower() \n",
        "      \n",
        "    words += \" \".join(tokens)+\" \"\n",
        "  \n",
        "wordcloud = WordCloud(width = 400, height = 400, \n",
        "                background_color ='black', \n",
        "                stopwords = stopwords, \n",
        "                min_font_size = 10).generate(words) \n",
        "  \n",
        "# plot the WordCloud image                        \n",
        "plt.figure(figsize = (4, 4), facecolor = None) \n",
        "plt.imshow(wordcloud) \n",
        "plt.axis(\"off\") \n",
        "plt.tight_layout(pad = 0) \n",
        "  \n",
        "plt.show() "
      ],
      "execution_count": 36,
      "outputs": [
        {
          "output_type": "display_data",
          "data": {
            "image/png": "[encoded data removed]",
            "text/plain": [
              "<Figure size 288x288 with 1 Axes>"
            ]
          },
          "metadata": {
            "tags": [],
            "needs_background": "light"
          }
        }
      ]
    },
    {
      "cell_type": "markdown",
      "metadata": {
        "papermill": {
          "duration": 0.041325,
          "end_time": "2020-11-21T05:51:54.322859",
          "exception": false,
          "start_time": "2020-11-21T05:51:54.281534",
          "status": "completed"
        },
        "tags": [],
        "id": "ydtPmDtMAtyl"
      },
      "source": [
        "# Word Cloud creation for Non-Sarcastic headlines"
      ]
    },
    {
      "cell_type": "code",
      "metadata": {
        "execution": {
          "iopub.execute_input": "2020-11-21T05:51:54.413192Z",
          "iopub.status.busy": "2020-11-21T05:51:54.412363Z",
          "iopub.status.idle": "2020-11-21T05:51:54.429834Z",
          "shell.execute_reply": "2020-11-21T05:51:54.429142Z"
        },
        "papermill": {
          "duration": 0.065779,
          "end_time": "2020-11-21T05:51:54.429994",
          "exception": false,
          "start_time": "2020-11-21T05:51:54.364215",
          "status": "completed"
        },
        "tags": [],
        "colab": {
          "base_uri": "https://localhost:8080/",
          "height": 402
        },
        "id": "EBH52HS6Atyl",
        "outputId": "386e59ff-cd89-4be2-9a8f-cfad3794fef0"
      },
      "source": [
        "\n",
        "NonSarNews = df[(df['is_sarcastic'])==0]\n",
        "NonSarNews"
      ],
      "execution_count": 37,
      "outputs": [
        {
          "output_type": "execute_result",
          "data": {
            "text/html": [
              "<div>\n",
              "<style scoped>\n",
              "    .dataframe tbody tr th:only-of-type {\n",
              "        vertical-align: middle;\n",
              "    }\n",
              "\n",
              "    .dataframe tbody tr th {\n",
              "        vertical-align: top;\n",
              "    }\n",
              "\n",
              "    .dataframe thead th {\n",
              "        text-align: right;\n",
              "    }\n",
              "</style>\n",
              "<table border=\"1\" class=\"dataframe\">\n",
              "  <thead>\n",
              "    <tr style=\"text-align: right;\">\n",
              "      <th></th>\n",
              "      <th>headline</th>\n",
              "      <th>is_sarcastic</th>\n",
              "    </tr>\n",
              "  </thead>\n",
              "  <tbody>\n",
              "    <tr>\n",
              "      <th>0</th>\n",
              "      <td>former versace store clerk sues over secret 'b...</td>\n",
              "      <td>0</td>\n",
              "    </tr>\n",
              "    <tr>\n",
              "      <th>1</th>\n",
              "      <td>the 'roseanne' revival catches up to our thorn...</td>\n",
              "      <td>0</td>\n",
              "    </tr>\n",
              "    <tr>\n",
              "      <th>4</th>\n",
              "      <td>j.k. rowling wishes snape happy birthday in th...</td>\n",
              "      <td>0</td>\n",
              "    </tr>\n",
              "    <tr>\n",
              "      <th>5</th>\n",
              "      <td>advancing the world's women</td>\n",
              "      <td>0</td>\n",
              "    </tr>\n",
              "    <tr>\n",
              "      <th>6</th>\n",
              "      <td>the fascinating case for eating lab-grown meat</td>\n",
              "      <td>0</td>\n",
              "    </tr>\n",
              "    <tr>\n",
              "      <th>...</th>\n",
              "      <td>...</td>\n",
              "      <td>...</td>\n",
              "    </tr>\n",
              "    <tr>\n",
              "      <th>28607</th>\n",
              "      <td>what our grieving family needs from loved ones...</td>\n",
              "      <td>0</td>\n",
              "    </tr>\n",
              "    <tr>\n",
              "      <th>28608</th>\n",
              "      <td>stephen colbert attempts to list everything tr...</td>\n",
              "      <td>0</td>\n",
              "    </tr>\n",
              "    <tr>\n",
              "      <th>28609</th>\n",
              "      <td>bakery owner vows to stop making wedding cakes...</td>\n",
              "      <td>0</td>\n",
              "    </tr>\n",
              "    <tr>\n",
              "      <th>28613</th>\n",
              "      <td>how san antonio's dominant defense is fueling ...</td>\n",
              "      <td>0</td>\n",
              "    </tr>\n",
              "    <tr>\n",
              "      <th>28616</th>\n",
              "      <td>the most beautiful acceptance speech this week...</td>\n",
              "      <td>0</td>\n",
              "    </tr>\n",
              "  </tbody>\n",
              "</table>\n",
              "<p>29970 rows × 2 columns</p>\n",
              "</div>"
            ],
            "text/plain": [
              "                                                headline  is_sarcastic\n",
              "0      former versace store clerk sues over secret 'b...             0\n",
              "1      the 'roseanne' revival catches up to our thorn...             0\n",
              "4      j.k. rowling wishes snape happy birthday in th...             0\n",
              "5                            advancing the world's women             0\n",
              "6         the fascinating case for eating lab-grown meat             0\n",
              "...                                                  ...           ...\n",
              "28607  what our grieving family needs from loved ones...             0\n",
              "28608  stephen colbert attempts to list everything tr...             0\n",
              "28609  bakery owner vows to stop making wedding cakes...             0\n",
              "28613  how san antonio's dominant defense is fueling ...             0\n",
              "28616  the most beautiful acceptance speech this week...             0\n",
              "\n",
              "[29970 rows x 2 columns]"
            ]
          },
          "metadata": {
            "tags": []
          },
          "execution_count": 37
        }
      ]
    },
    {
      "cell_type": "code",
      "metadata": {
        "execution": {
          "iopub.execute_input": "2020-11-21T05:51:54.539681Z",
          "iopub.status.busy": "2020-11-21T05:51:54.523958Z",
          "iopub.status.idle": "2020-11-21T05:51:58.670521Z",
          "shell.execute_reply": "2020-11-21T05:51:58.671138Z"
        },
        "papermill": {
          "duration": 4.199046,
          "end_time": "2020-11-21T05:51:58.671341",
          "exception": false,
          "start_time": "2020-11-21T05:51:54.472295",
          "status": "completed"
        },
        "tags": [],
        "colab": {
          "base_uri": "https://localhost:8080/",
          "height": 319
        },
        "id": "dd--mocAAtyl",
        "outputId": "a0e4e618-6e8f-44c1-eb6d-2401764c8a10"
      },
      "source": [
        "  \n",
        "words = '' \n",
        "stopwords = set(STOPWORDS) \n",
        "  \n",
        "for val in NonSarNews.headline: \n",
        "      \n",
        "    val = str(val) \n",
        "  \n",
        "    tokens = val.split() \n",
        "      \n",
        "    for i in range(len(tokens)): \n",
        "        tokens[i] = tokens[i].lower() \n",
        "      \n",
        "    words += \" \".join(tokens)+\" \"\n",
        "  \n",
        "wordcloud = WordCloud(width = 400, height = 400, \n",
        "                background_color ='white', \n",
        "                stopwords = stopwords, \n",
        "                min_font_size = 10).generate(words) \n",
        "  \n",
        "# plot the WordCloud image                        \n",
        "plt.figure(figsize = (4, 4), facecolor = None) \n",
        "plt.imshow(wordcloud) \n",
        "plt.axis(\"off\") \n",
        "plt.tight_layout(pad = 0) \n",
        "  \n",
        "plt.show()"
      ],
      "execution_count": 38,
      "outputs": [
        {
          "output_type": "display_data",
          "data": {
            "image/png": "[encoded data removed]",
            "text/plain": [
              "<Figure size 288x288 with 1 Axes>"
            ]
          },
          "metadata": {
            "tags": [],
            "needs_background": "light"
          }
        }
      ]
    },
    {
      "cell_type": "markdown",
      "metadata": {
        "papermill": {
          "duration": 0.052453,
          "end_time": "2020-11-21T05:51:58.777306",
          "exception": false,
          "start_time": "2020-11-21T05:51:58.724853",
          "status": "completed"
        },
        "tags": [],
        "id": "1tYnWrWyAtyl"
      },
      "source": [
        "# Train test Split 70-30 "
      ]
    },
    {
      "cell_type": "code",
      "metadata": {
        "execution": {
          "iopub.execute_input": "2020-11-21T05:51:58.891349Z",
          "iopub.status.busy": "2020-11-21T05:51:58.889739Z",
          "iopub.status.idle": "2020-11-21T05:51:58.905772Z",
          "shell.execute_reply": "2020-11-21T05:51:58.904995Z"
        },
        "papermill": {
          "duration": 0.076856,
          "end_time": "2020-11-21T05:51:58.905920",
          "exception": false,
          "start_time": "2020-11-21T05:51:58.829064",
          "status": "completed"
        },
        "tags": [],
        "id": "3DtlmkqNAtyl"
      },
      "source": [
        "from sklearn.model_selection import train_test_split\n",
        "X_train, X_test, y_train, y_test = train_test_split(x_data, df['is_sarcastic'].values, test_size=0.3, random_state=72)"
      ],
      "execution_count": 39,
      "outputs": []
    },
    {
      "cell_type": "markdown",
      "metadata": {
        "papermill": {
          "duration": 0.051477,
          "end_time": "2020-11-21T05:51:59.009234",
          "exception": false,
          "start_time": "2020-11-21T05:51:58.957757",
          "status": "completed"
        },
        "tags": [],
        "id": "xqD9l-58Atyl"
      },
      "source": [
        "# TF IDF vectorizations"
      ]
    },
    {
      "cell_type": "code",
      "metadata": {
        "execution": {
          "iopub.execute_input": "2020-11-21T05:51:59.147634Z",
          "iopub.status.busy": "2020-11-21T05:51:59.142539Z",
          "iopub.status.idle": "2020-11-21T05:52:00.115112Z",
          "shell.execute_reply": "2020-11-21T05:52:00.114262Z"
        },
        "papermill": {
          "duration": 1.054418,
          "end_time": "2020-11-21T05:52:00.115291",
          "exception": false,
          "start_time": "2020-11-21T05:51:59.060873",
          "status": "completed"
        },
        "tags": [],
        "colab": {
          "base_uri": "https://localhost:8080/"
        },
        "id": "q0m1yWqjAtyl",
        "outputId": "75b6df31-8cdf-42f2-be02-32bc0288ffaa"
      },
      "source": [
        "\n",
        "from sklearn.feature_extraction.text import TfidfVectorizer\n",
        "vectorizer = TfidfVectorizer()\n",
        "x_train_tfidf = vectorizer.fit_transform(X_train)\n",
        "x_test_tfidf = vectorizer.transform(X_test)\n",
        "x_test_tfidf"
      ],
      "execution_count": 58,
      "outputs": [
        {
          "output_type": "execute_result",
          "data": {
            "text/plain": [
              "<16599x17120 sparse matrix of type '<class 'numpy.float64'>'\n",
              "\twith 117143 stored elements in Compressed Sparse Row format>"
            ]
          },
          "metadata": {
            "tags": []
          },
          "execution_count": 58
        }
      ]
    },
    {
      "cell_type": "code",
      "metadata": {
        "execution": {
          "iopub.execute_input": "2020-11-21T05:52:00.229684Z",
          "iopub.status.busy": "2020-11-21T05:52:00.228534Z",
          "iopub.status.idle": "2020-11-21T05:52:00.264651Z",
          "shell.execute_reply": "2020-11-21T05:52:00.263995Z"
        },
        "papermill": {
          "duration": 0.097236,
          "end_time": "2020-11-21T05:52:00.264800",
          "exception": false,
          "start_time": "2020-11-21T05:52:00.167564",
          "status": "completed"
        },
        "tags": [],
        "colab": {
          "base_uri": "https://localhost:8080/",
          "height": 195
        },
        "id": "6aJ_wx9sAtyl",
        "outputId": "acd4987a-d7aa-4b17-d079-141dd93063b6"
      },
      "source": [
        "df_idf = pd.DataFrame(vectorizer.idf_, index=vectorizer.get_feature_names(),columns=[\"idf_weights\"])\n",
        " \n",
        "# sort ascending\n",
        "df_idf.sort_values(by=['idf_weights']).head()"
      ],
      "execution_count": 41,
      "outputs": [
        {
          "output_type": "execute_result",
          "data": {
            "text/html": [
              "<div>\n",
              "<style scoped>\n",
              "    .dataframe tbody tr th:only-of-type {\n",
              "        vertical-align: middle;\n",
              "    }\n",
              "\n",
              "    .dataframe tbody tr th {\n",
              "        vertical-align: top;\n",
              "    }\n",
              "\n",
              "    .dataframe thead th {\n",
              "        text-align: right;\n",
              "    }\n",
              "</style>\n",
              "<table border=\"1\" class=\"dataframe\">\n",
              "  <thead>\n",
              "    <tr style=\"text-align: right;\">\n",
              "      <th></th>\n",
              "      <th>idf_weights</th>\n",
              "    </tr>\n",
              "  </thead>\n",
              "  <tbody>\n",
              "    <tr>\n",
              "      <th>trump</th>\n",
              "      <td>3.772847</td>\n",
              "    </tr>\n",
              "    <tr>\n",
              "      <th>new</th>\n",
              "      <td>3.862265</td>\n",
              "    </tr>\n",
              "    <tr>\n",
              "      <th>man</th>\n",
              "      <td>3.931969</td>\n",
              "    </tr>\n",
              "    <tr>\n",
              "      <th>get</th>\n",
              "      <td>4.554961</td>\n",
              "    </tr>\n",
              "    <tr>\n",
              "      <th>year</th>\n",
              "      <td>4.557675</td>\n",
              "    </tr>\n",
              "  </tbody>\n",
              "</table>\n",
              "</div>"
            ],
            "text/plain": [
              "       idf_weights\n",
              "trump     3.772847\n",
              "new       3.862265\n",
              "man       3.931969\n",
              "get       4.554961\n",
              "year      4.557675"
            ]
          },
          "metadata": {
            "tags": []
          },
          "execution_count": 41
        }
      ]
    },
    {
      "cell_type": "code",
      "metadata": {
        "execution": {
          "iopub.execute_input": "2020-11-21T05:52:00.378344Z",
          "iopub.status.busy": "2020-11-21T05:52:00.377300Z",
          "iopub.status.idle": "2020-11-21T05:52:00.391896Z",
          "shell.execute_reply": "2020-11-21T05:52:00.391083Z"
        },
        "papermill": {
          "duration": 0.074288,
          "end_time": "2020-11-21T05:52:00.392035",
          "exception": false,
          "start_time": "2020-11-21T05:52:00.317747",
          "status": "completed"
        },
        "tags": [],
        "colab": {
          "base_uri": "https://localhost:8080/",
          "height": 195
        },
        "id": "vUorQfwMAtyl",
        "outputId": "1f672215-ff06-4829-cb12-10c4849b549f"
      },
      "source": [
        "df_idf.sort_values(by=['idf_weights']).tail()"
      ],
      "execution_count": 42,
      "outputs": [
        {
          "output_type": "execute_result",
          "data": {
            "text/html": [
              "<div>\n",
              "<style scoped>\n",
              "    .dataframe tbody tr th:only-of-type {\n",
              "        vertical-align: middle;\n",
              "    }\n",
              "\n",
              "    .dataframe tbody tr th {\n",
              "        vertical-align: top;\n",
              "    }\n",
              "\n",
              "    .dataframe thead th {\n",
              "        text-align: right;\n",
              "    }\n",
              "</style>\n",
              "<table border=\"1\" class=\"dataframe\">\n",
              "  <thead>\n",
              "    <tr style=\"text-align: right;\">\n",
              "      <th></th>\n",
              "      <th>idf_weights</th>\n",
              "    </tr>\n",
              "  </thead>\n",
              "  <tbody>\n",
              "    <tr>\n",
              "      <th>shamer</th>\n",
              "      <td>10.871223</td>\n",
              "    </tr>\n",
              "    <tr>\n",
              "      <th>grapevin</th>\n",
              "      <td>10.871223</td>\n",
              "    </tr>\n",
              "    <tr>\n",
              "      <th>gravel</th>\n",
              "      <td>10.871223</td>\n",
              "    </tr>\n",
              "    <tr>\n",
              "      <th>grandilomentitudin</th>\n",
              "      <td>10.871223</td>\n",
              "    </tr>\n",
              "    <tr>\n",
              "      <th>lag</th>\n",
              "      <td>10.871223</td>\n",
              "    </tr>\n",
              "  </tbody>\n",
              "</table>\n",
              "</div>"
            ],
            "text/plain": [
              "                    idf_weights\n",
              "shamer                10.871223\n",
              "grapevin              10.871223\n",
              "gravel                10.871223\n",
              "grandilomentitudin    10.871223\n",
              "lag                   10.871223"
            ]
          },
          "metadata": {
            "tags": []
          },
          "execution_count": 42
        }
      ]
    },
    {
      "cell_type": "markdown",
      "metadata": {
        "papermill": {
          "duration": 0.053203,
          "end_time": "2020-11-21T05:52:00.499136",
          "exception": false,
          "start_time": "2020-11-21T05:52:00.445933",
          "status": "completed"
        },
        "tags": [],
        "id": "RATxLgkJAtym"
      },
      "source": [
        "# Model Creations"
      ]
    },
    {
      "cell_type": "code",
      "metadata": {
        "execution": {
          "iopub.execute_input": "2020-11-21T05:52:00.614103Z",
          "iopub.status.busy": "2020-11-21T05:52:00.613106Z",
          "iopub.status.idle": "2020-11-21T05:53:28.566329Z",
          "shell.execute_reply": "2020-11-21T05:53:28.565474Z"
        },
        "papermill": {
          "duration": 88.013662,
          "end_time": "2020-11-21T05:53:28.566489",
          "exception": false,
          "start_time": "2020-11-21T05:52:00.552827",
          "status": "completed"
        },
        "tags": [],
        "colab": {
          "base_uri": "https://localhost:8080/"
        },
        "id": "cN5k4cSFAtym",
        "outputId": "8862a35a-5c40-4c21-adbe-9c9d31dbba7d"
      },
      "source": [
        "from sklearn.ensemble import RandomForestClassifier\n",
        "rf = RandomForestClassifier()\n",
        "rf.fit(x_train_tfidf,y_train)\n",
        "print(f\"Training Score : {rf.score(x_train_tfidf, y_train)}\")\n",
        "print(f\"Test Score : {rf.score(x_test_tfidf, y_test)}\")"
      ],
      "execution_count": 43,
      "outputs": [
        {
          "output_type": "stream",
          "text": [
            "Training Score : 0.9999741795553719\n",
            "Test Score : 0.9192120007229351\n"
          ],
          "name": "stdout"
        }
      ]
    },
    {
      "cell_type": "code",
      "metadata": {
        "colab": {
          "base_uri": "https://localhost:8080/"
        },
        "id": "ib5DhCelAtym",
        "outputId": "4b2bf326-3702-41b3-efc6-e2823dcf2d27"
      },
      "source": [
        "from sklearn.linear_model import LinearRegression\n",
        "lre = LinearRegression() \n",
        "lre.fit(x_train_tfidf,y_train)\n",
        "print(f\"Training Score : {lre.score(x_train_tfidf, y_train)}\")\n",
        "print(f\"Test Score : {lre.score(x_test_tfidf, y_test)}\")"
      ],
      "execution_count": 44,
      "outputs": [
        {
          "output_type": "stream",
          "text": [
            "Training Score : 0.8190897033034968\n",
            "Test Score : 0.45257177906383594\n"
          ],
          "name": "stdout"
        }
      ]
    },
    {
      "cell_type": "code",
      "metadata": {
        "colab": {
          "base_uri": "https://localhost:8080/"
        },
        "id": "HhgRAAUNAtym",
        "outputId": "a4cf2852-8b4f-41e8-9e5c-018a5fe1151a"
      },
      "source": [
        "from sklearn.linear_model import LogisticRegression\n",
        "lr = LogisticRegression() \n",
        "lr.fit(x_train_tfidf,y_train)\n",
        "print(f\"Training Score : {lr.score(x_train_tfidf, y_train)}\")\n",
        "print(f\"Test Score : {lr.score(x_test_tfidf, y_test)}\")"
      ],
      "execution_count": 45,
      "outputs": [
        {
          "output_type": "stream",
          "text": [
            "Training Score : 0.887113016086137\n",
            "Test Score : 0.8369178866196759\n"
          ],
          "name": "stdout"
        }
      ]
    },
    {
      "cell_type": "code",
      "metadata": {
        "colab": {
          "base_uri": "https://localhost:8080/"
        },
        "id": "N0k9WgUaAtyn",
        "outputId": "0fb440aa-60ef-43e3-d814-f8605ca7e61a"
      },
      "source": [
        "from sklearn.neighbors import KNeighborsClassifier\n",
        "knc = KNeighborsClassifier() \n",
        "knc.fit(x_train_tfidf,y_train)\n",
        "print(f\"Training Score : {knc.score(x_train_tfidf, y_train)}\")\n",
        "print(f\"Test Score : {knc.score(x_test_tfidf, y_test)}\")"
      ],
      "execution_count": 53,
      "outputs": [
        {
          "output_type": "stream",
          "text": [
            "Training Score : 0.80350641638049\n",
            "Test Score : 0.720947045002711\n"
          ],
          "name": "stdout"
        }
      ]
    },
    {
      "cell_type": "code",
      "metadata": {
        "colab": {
          "base_uri": "https://localhost:8080/"
        },
        "id": "hKqjeLmvKwxW",
        "outputId": "bd9a5789-5781-4ccf-e5bb-c4d6e8552e22"
      },
      "source": [
        "from sklearn.tree import DecisionTreeClassifier\n",
        "dtc = DecisionTreeClassifier() \n",
        "dtc.fit(x_train_tfidf,y_train)\n",
        "print(f\"Training Score : {dtc.score(x_train_tfidf, y_train)}\")\n",
        "print(f\"Test Score : {dtc.score(x_test_tfidf, y_test)}\")"
      ],
      "execution_count": 57,
      "outputs": [
        {
          "output_type": "stream",
          "text": [
            "Training Score : 1.0\n",
            "Test Score : 0.9019820471112717\n"
          ],
          "name": "stdout"
        }
      ]
    },
    {
      "cell_type": "code",
      "metadata": {
        "colab": {
          "base_uri": "https://localhost:8080/"
        },
        "id": "fO2u15KVO36I",
        "outputId": "faac3710-b350-452a-da44-df31b76b5d99"
      },
      "source": [
        "from sklearn.svm import SVC\n",
        "svc = SVC() \n",
        "svc.fit(x_train_tfidf,y_train)\n",
        "print(f\"Training Score : {svc.score(x_train_tfidf, y_train)}\")\n",
        "print(f\"Test Score : {svc.score(x_test_tfidf, y_test)}\")"
      ],
      "execution_count": 59,
      "outputs": [
        {
          "output_type": "stream",
          "text": [
            "Training Score : 0.9930284799504248\n",
            "Test Score : 0.9210795831074161\n"
          ],
          "name": "stdout"
        }
      ]
    }
  ]
}